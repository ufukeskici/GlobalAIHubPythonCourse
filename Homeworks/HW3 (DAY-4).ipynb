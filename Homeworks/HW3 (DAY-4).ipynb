{
 "cells": [
  {
   "cell_type": "markdown",
   "metadata": {},
   "source": [
    "#### Finding prime numbers between 0 and 100"
   ]
  },
  {
   "cell_type": "code",
   "execution_count": 4,
   "metadata": {},
   "outputs": [
    {
     "name": "stdout",
     "output_type": "stream",
     "text": [
      "These are the prime numbers between 0 and 100 --> 2 3 5 7 11 13 17 19 23 29 31 37 41 43 47 53 59 61 67 71 73 79 83 89 97 "
     ]
    }
   ],
   "source": [
    "def FindPrime():\n",
    "    print (\"These are the prime numbers between 0 and 100 -->\", end = ' ') \n",
    "    for x in range(2,101):     # 1 is not a prime number so it is excluded\n",
    "        check = 0\n",
    "        for y in range(1,x+1):\n",
    "            if x % y == 0:\n",
    "                check += 1\n",
    "        if check == 2:\n",
    "            print (x, end = ' ')\n",
    "\n",
    "FindPrime()"
   ]
  },
  {
   "cell_type": "code",
   "execution_count": null,
   "metadata": {},
   "outputs": [],
   "source": []
  }
 ],
 "metadata": {
  "kernelspec": {
   "display_name": "Python 3",
   "language": "python",
   "name": "python3"
  },
  "language_info": {
   "codemirror_mode": {
    "name": "ipython",
    "version": 3
   },
   "file_extension": ".py",
   "mimetype": "text/x-python",
   "name": "python",
   "nbconvert_exporter": "python",
   "pygments_lexer": "ipython3",
   "version": "3.8.5"
  }
 },
 "nbformat": 4,
 "nbformat_minor": 4
}
