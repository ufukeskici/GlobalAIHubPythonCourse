{
 "cells": [
  {
   "cell_type": "markdown",
   "metadata": {},
   "source": [
    "#### Get username and password values from the user.\n",
    "#### Check the values in an if statement and tell the user if they were successful."
   ]
  },
  {
   "cell_type": "code",
   "execution_count": 14,
   "metadata": {},
   "outputs": [
    {
     "name": "stdout",
     "output_type": "stream",
     "text": [
      "Please input your username: ufuk\n",
      "Please input your password: 12345\n",
      "The username and password you entered is correct. Login successful!\n"
     ]
    }
   ],
   "source": [
    "recorded_username = \"ufuk\"\n",
    "recorded_password = \"12345\"\n",
    "\n",
    "# The if statement first checks the username, then it starts checking the password.\n",
    "\n",
    "input_username = input(\"Please input your username: \")\n",
    "input_password = input(\"Please input your password: \")\n",
    "\n",
    "if input_username != recorded_username:\n",
    "    print(\"Sorry! The username you entered is wrong! There is no such user.\")\n",
    "elif input_password != recorded_password:\n",
    "    print(\"Sorry! The password you entered is wrong!\")\n",
    "else:\n",
    "    print(\"The username and password you entered is correct. Login successful!\")\n"
   ]
  },
  {
   "cell_type": "markdown",
   "metadata": {},
   "source": [
    "#### EXTRA: Try building the same user login application but this time, use a dictionary!"
   ]
  },
  {
   "cell_type": "code",
   "execution_count": 11,
   "metadata": {},
   "outputs": [
    {
     "name": "stdout",
     "output_type": "stream",
     "text": [
      "Please input your username: ufuk\n",
      "Please input your password: 12345\n",
      "The username and password you entered is correct. Welcome!\n"
     ]
    }
   ],
   "source": [
    "userinfo_dict = {\"username\":\"ufuk\", \"password\":\"12345\"}\n",
    "\n",
    "input_username = input(\"Please input your username: \")\n",
    "input_password = input(\"Please input your password: \")\n",
    "\n",
    "# The if statement first checks the username, then it starts checking the password.\n",
    "\n",
    "if input_username != userinfo_dict[\"username\"]:\n",
    "    print(\"Sorry! The username you entered is wrong! There is no such user.\")\n",
    "elif input_password != userinfo_dict[\"password\"]:\n",
    "    print(\"Sorry! The password you entered is wrong!\")\n",
    "else:\n",
    "    print(\"The username and password you entered is correct. Login successful!\")"
   ]
  }
 ],
 "metadata": {
  "kernelspec": {
   "display_name": "Python 3",
   "language": "python",
   "name": "python3"
  },
  "language_info": {
   "codemirror_mode": {
    "name": "ipython",
    "version": 3
   },
   "file_extension": ".py",
   "mimetype": "text/x-python",
   "name": "python",
   "nbconvert_exporter": "python",
   "pygments_lexer": "ipython3",
   "version": "3.8.5"
  }
 },
 "nbformat": 4,
 "nbformat_minor": 4
}
