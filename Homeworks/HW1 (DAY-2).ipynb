{
 "cells": [
  {
   "cell_type": "markdown",
   "metadata": {},
   "source": [
    "#### Q1: Create a list and swap the second half of the list with the first half of the list and print this list on the screen."
   ]
  },
  {
   "cell_type": "code",
   "execution_count": 4,
   "metadata": {},
   "outputs": [
    {
     "name": "stdout",
     "output_type": "stream",
     "text": [
      "THIS IS MY SWAPPED LIST:  ['A7', 'A8', 'A9', 'A10', 'A11', 'A12', 'A1', 'A2', 'A3', 'A4', 'A5', 'A6']\n"
     ]
    }
   ],
   "source": [
    "my_list = [\"A1\", \"A2\", \"A3\", \"A4\", \"A5\", \"A6\", \"A7\", \"A8\", \"A9\", \"A10\", \"A11\", \"A12\"]\n",
    "\n",
    "my_swapped_list = []\n",
    "\n",
    "for x in range(int(len(my_list)/2),len(my_list)):\n",
    "    my_swapped_list.append(my_list[x])\n",
    "\n",
    "for y in range(0,int(len(my_list)/2)):\n",
    "    my_swapped_list.append(my_list[y])\n",
    "\n",
    "print(\"THIS IS MY SWAPPED LIST: \", my_swapped_list)"
   ]
  },
  {
   "cell_type": "markdown",
   "metadata": {},
   "source": [
    "#### Q2: Ask the user to input a single digit integer to a variable 'n'. Then print out all of the even numbers from 0 to n (including n)"
   ]
  },
  {
   "cell_type": "code",
   "execution_count": 6,
   "metadata": {},
   "outputs": [
    {
     "name": "stdout",
     "output_type": "stream",
     "text": [
      "Please input a single digit integer: 14\n",
      "\n",
      "Here are the all of the even numbers from 0 to 14 :\n",
      "\n",
      "0 2 4 6 8 10 12 14 "
     ]
    }
   ],
   "source": [
    "n = int(input(\"Please input a single digit integer: \"))\n",
    "\n",
    "a = 0\n",
    "\n",
    "print(\"\")\n",
    "print(\"Here are the all of the even numbers from 0 to\", n, \":\")\n",
    "print(\"\")\n",
    "\n",
    "while a <= n:\n",
    "    if a % 2 == 0:\n",
    "        print (a, end = ' ') \n",
    "    a = a + 1"
   ]
  },
  {
   "cell_type": "code",
   "execution_count": null,
   "metadata": {},
   "outputs": [],
   "source": []
  }
 ],
 "metadata": {
  "kernelspec": {
   "display_name": "Python 3",
   "language": "python",
   "name": "python3"
  },
  "language_info": {
   "codemirror_mode": {
    "name": "ipython",
    "version": 3
   },
   "file_extension": ".py",
   "mimetype": "text/x-python",
   "name": "python",
   "nbconvert_exporter": "python",
   "pygments_lexer": "ipython3",
   "version": "3.8.5"
  }
 },
 "nbformat": 4,
 "nbformat_minor": 4
}
