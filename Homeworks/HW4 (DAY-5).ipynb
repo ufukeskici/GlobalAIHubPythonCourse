{
 "cells": [
  {
   "cell_type": "markdown",
   "metadata": {},
   "source": [
    "#### Create 3 classes named Animals, Dogs and Cats. Add some features to these classes. Create some functions with these  attributes. Don't forget! You have to do it with inheritance."
   ]
  },
  {
   "cell_type": "code",
   "execution_count": 15,
   "metadata": {},
   "outputs": [],
   "source": [
    "class Animal():\n",
    "    def __init__(self, name, color, numberoflegs):\n",
    "        self.name = name\n",
    "        self.color = color\n",
    "        self.numberoflegs = numberoflegs\n",
    "        \n",
    "    def print_name(self):\n",
    "        print(\"My animal's name is\", self.name)\n",
    "        \n",
    "    def print_color(self):\n",
    "        print(\"My animal's color is\", self.color)\n",
    "        \n",
    "    def print_numberoflegs(self):\n",
    "        print(\"My animal has\", self.numberoflegs, \"legs\")\n",
    "        \n",
    "class Dogs(Animal):\n",
    "    def __init__(self, lifetime, typeofdog):\n",
    "        self.lifetime = lifetime\n",
    "        self.typeofdog = typeofdog\n",
    "   \n",
    "class Cats(Animal):\n",
    "    def __init__(self, lifetime, typeofcat):\n",
    "        self.lifetime = lifetime\n",
    "        self.typeofcat = typeofcat"
   ]
  },
  {
   "cell_type": "code",
   "execution_count": 17,
   "metadata": {},
   "outputs": [
    {
     "name": "stdout",
     "output_type": "stream",
     "text": [
      "15 years\n",
      "British Shorthair\n",
      "------------------\n",
      "11 years\n",
      "Terrier\n"
     ]
    }
   ],
   "source": [
    "animal = Animal(\"Jack\", \"Black\", 4)\n",
    "\n",
    "mycat = Cats(\"15 years\", \"British Shorthair\")\n",
    "mycat.name = \"John\"\n",
    "mycat.color = \"Brown\"\n",
    "mycat.numberoflegs = 4\n",
    "print(mycat.lifetime)\n",
    "print(mycat.typeofcat)\n",
    "print(\"------------------\")\n",
    "mydog = Dogs(\"11 years\", \"Terrier\")\n",
    "mydog.name = \"Monster\"\n",
    "mydog.color = \"Black\"\n",
    "mydog.numberoflegs = 3\n",
    "print(mydog.lifetime)\n",
    "print(mydog.typeofdog)"
   ]
  },
  {
   "cell_type": "code",
   "execution_count": 19,
   "metadata": {},
   "outputs": [
    {
     "name": "stdout",
     "output_type": "stream",
     "text": [
      "...inherits print functions from Animal class...\n",
      "My animal's name is John\n",
      "My animal's color is Brown\n",
      "My animal has 4 legs\n",
      "------------------\n",
      "...inherits print functions from Animal class...\n",
      "My animal's name is Monster\n",
      "My animal's color is Black\n",
      "My animal has 3 legs\n"
     ]
    }
   ],
   "source": [
    "print(\"...inherits print functions from Animal class...\")\n",
    "mycat.print_name()\n",
    "mycat.print_color()\n",
    "mycat.print_numberoflegs()\n",
    "print(\"------------------\")\n",
    "print(\"...inherits print functions from Animal class...\")\n",
    "mydog.print_name()\n",
    "mydog.print_color()\n",
    "mydog.print_numberoflegs()"
   ]
  },
  {
   "cell_type": "code",
   "execution_count": null,
   "metadata": {},
   "outputs": [],
   "source": []
  }
 ],
 "metadata": {
  "kernelspec": {
   "display_name": "Python 3",
   "language": "python",
   "name": "python3"
  },
  "language_info": {
   "codemirror_mode": {
    "name": "ipython",
    "version": 3
   },
   "file_extension": ".py",
   "mimetype": "text/x-python",
   "name": "python",
   "nbconvert_exporter": "python",
   "pygments_lexer": "ipython3",
   "version": "3.8.5"
  }
 },
 "nbformat": 4,
 "nbformat_minor": 4
}
