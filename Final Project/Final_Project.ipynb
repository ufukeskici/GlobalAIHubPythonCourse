{
 "cells": [
  {
   "cell_type": "markdown",
   "metadata": {},
   "source": [
    "#### Determine the names and ages of employees, company managers and the languages they can speak. Then write a program that will print the languages that any of employees can speak. In this project, complete the project by creating two classes named employees and manager."
   ]
  },
  {
   "cell_type": "code",
   "execution_count": 2,
   "metadata": {},
   "outputs": [],
   "source": [
    "class Employees():\n",
    "    \n",
    "    staff_list = {}\n",
    "    \n",
    "    def __init__(self, name, age, status=\"Employee\"):\n",
    "        self.name = name\n",
    "        self.age = age\n",
    "        self.status = status\n",
    "        self.language = set()\n",
    "        \n",
    "    def addStaff(self):\n",
    "        if self.name not in Employees.staff_list.keys():\n",
    "            Employees.staff_list[self.name]=[self.age, self.status, self.language]\n",
    "            print(\"New Staff:\", self.name, \"is added to the database.\")\n",
    "        else:\n",
    "            print(\"The staff that you're trying to add is already in the database!\")\n",
    "        \n",
    "    def addLanguage(self, new_language):\n",
    "        self.language.add(new_language)\n",
    "        print(\"Added new language:\", new_language, \"for this staff:\", self.name)\n",
    "        \n",
    "    def showLanguage(self):\n",
    "        print(self.name, \"can speak:\")\n",
    "        for i in self.language:\n",
    "            print(i)\n",
    "\n",
    "class Manager(Employees):\n",
    "    def __init__(self, name, age, status=\"Manager\"):\n",
    "        super().__init__(name, age)\n",
    "        self.status = status\n",
    "\n",
    "def showStaffList():\n",
    "    if len(Employees.staff_list) > 0:\n",
    "        print(\"HERE IS THE STAFF LIST\")\n",
    "        print(\"======================\")\n",
    "        for key in Employees.staff_list.keys():\n",
    "            print(key)\n",
    "    else:\n",
    "        print(\"There is no staff in the database, please add a new staff.\")\n",
    "    \n",
    "def showStaffAndLanguage():\n",
    "    print(\"HERE IS THE STAFF LIST WITH THEIR LANGUAGES\")\n",
    "    print(\"===========================================\")\n",
    "    for key in Employees.staff_list.keys():\n",
    "        lang = ', '.join(Employees.staff_list[key][2])\n",
    "        print('{:25s} {:25s} '.format(key, lang))"
   ]
  },
  {
   "cell_type": "code",
   "execution_count": 3,
   "metadata": {},
   "outputs": [
    {
     "name": "stdout",
     "output_type": "stream",
     "text": [
      "There is no staff in the database, please add a new staff.\n"
     ]
    }
   ],
   "source": [
    "# CHECKING INITIAL STATUS (THERE IS NO STAFF)\n",
    "showStaffList()"
   ]
  },
  {
   "cell_type": "code",
   "execution_count": 4,
   "metadata": {},
   "outputs": [
    {
     "name": "stdout",
     "output_type": "stream",
     "text": [
      "New Staff: Ufuk is added to the database.\n"
     ]
    }
   ],
   "source": [
    "# REGISTER A NEW EMPLOYEE\n",
    "ufuk = Employees(\"Ufuk\", 55)\n",
    "ufuk.addStaff()"
   ]
  },
  {
   "cell_type": "code",
   "execution_count": 5,
   "metadata": {},
   "outputs": [
    {
     "name": "stdout",
     "output_type": "stream",
     "text": [
      "HERE IS THE STAFF LIST\n",
      "======================\n",
      "Ufuk\n"
     ]
    }
   ],
   "source": [
    "showStaffList()"
   ]
  },
  {
   "cell_type": "code",
   "execution_count": 6,
   "metadata": {},
   "outputs": [
    {
     "name": "stdout",
     "output_type": "stream",
     "text": [
      "Added new language: French for this staff: Ufuk\n",
      "Added new language: Arabic for this staff: Ufuk\n",
      "=========================================\n",
      "Ufuk can speak:\n",
      "French\n",
      "Arabic\n"
     ]
    }
   ],
   "source": [
    "# ADDING NEW LANGUAGES FOR STAFF\n",
    "ufuk.addLanguage(\"French\")\n",
    "ufuk.addLanguage(\"Arabic\")\n",
    "print(\"=========================================\")\n",
    "ufuk.showLanguage()"
   ]
  },
  {
   "cell_type": "code",
   "execution_count": 7,
   "metadata": {},
   "outputs": [
    {
     "name": "stdout",
     "output_type": "stream",
     "text": [
      "New Staff: Ahmet is added to the database.\n"
     ]
    }
   ],
   "source": [
    "# REGISTER A NEW MANAGER\n",
    "ahmet = Manager(\"Ahmet\", 62)\n",
    "ahmet.addStaff()"
   ]
  },
  {
   "cell_type": "code",
   "execution_count": 8,
   "metadata": {},
   "outputs": [
    {
     "name": "stdout",
     "output_type": "stream",
     "text": [
      "Added new language: Turkish for this staff: Ahmet\n",
      "=========================================\n",
      "Ahmet can speak:\n",
      "Turkish\n"
     ]
    }
   ],
   "source": [
    "# ADDING NEW LANGUAGES FOR THE MANAGER\n",
    "ahmet.addLanguage(\"Turkish\")\n",
    "print(\"=========================================\")\n",
    "ahmet.showLanguage()"
   ]
  },
  {
   "cell_type": "code",
   "execution_count": 9,
   "metadata": {},
   "outputs": [
    {
     "name": "stdout",
     "output_type": "stream",
     "text": [
      "HERE IS THE STAFF LIST WITH THEIR LANGUAGES\n",
      "===========================================\n",
      "Ufuk                      French, Arabic            \n",
      "Ahmet                     Turkish                   \n"
     ]
    }
   ],
   "source": [
    "# CHECKING THE FINAL LIST OF EMPLOYEES WITH LANGUAGES\n",
    "showStaffAndLanguage()"
   ]
  },
  {
   "cell_type": "code",
   "execution_count": 10,
   "metadata": {},
   "outputs": [
    {
     "name": "stdout",
     "output_type": "stream",
     "text": [
      "New Staff: Veli is added to the database.\n",
      "Added new language: German for this staff: Veli\n",
      "New Staff: Hasan is added to the database.\n",
      "Added new language: Dutch for this staff: Hasan\n"
     ]
    }
   ],
   "source": [
    "# ADDING MORE EMPLOYEES AND MANAGERS\n",
    "veli = Manager(\"Veli\", 23)\n",
    "veli.addStaff()\n",
    "veli.addLanguage(\"German\")\n",
    "hasan = Employees(\"Hasan\", 41)\n",
    "hasan.addStaff()\n",
    "hasan.addLanguage(\"Dutch\")"
   ]
  },
  {
   "cell_type": "code",
   "execution_count": 11,
   "metadata": {},
   "outputs": [
    {
     "name": "stdout",
     "output_type": "stream",
     "text": [
      "HERE IS THE STAFF LIST WITH THEIR LANGUAGES\n",
      "===========================================\n",
      "Ufuk                      French, Arabic            \n",
      "Ahmet                     Turkish                   \n",
      "Veli                      German                    \n",
      "Hasan                     Dutch                     \n"
     ]
    }
   ],
   "source": [
    "# CHECKING THE FINAL LIST OF EMPLOYEES WITH LANGUAGES\n",
    "showStaffAndLanguage()"
   ]
  },
  {
   "cell_type": "code",
   "execution_count": 14,
   "metadata": {},
   "outputs": [
    {
     "name": "stdout",
     "output_type": "stream",
     "text": [
      "The staff that you're trying to add is already in the database!\n"
     ]
    }
   ],
   "source": [
    "# SAME STAFF CANNOT BE ADDED AGAIN.\n",
    "veli = Manager(\"Veli\", 23)\n",
    "veli.addStaff()"
   ]
  },
  {
   "cell_type": "code",
   "execution_count": 15,
   "metadata": {},
   "outputs": [
    {
     "name": "stdout",
     "output_type": "stream",
     "text": [
      "HERE IS THE STAFF LIST WITH THEIR LANGUAGES\n",
      "===========================================\n",
      "Ufuk                      French, Arabic            \n",
      "Ahmet                     Turkish                   \n",
      "Veli                      German                    \n",
      "Hasan                     Dutch                     \n"
     ]
    }
   ],
   "source": [
    "# CHECKING THE FINAL LIST AGAIN\n",
    "showStaffAndLanguage()"
   ]
  },
  {
   "cell_type": "code",
   "execution_count": null,
   "metadata": {},
   "outputs": [],
   "source": []
  }
 ],
 "metadata": {
  "kernelspec": {
   "display_name": "Python 3",
   "language": "python",
   "name": "python3"
  },
  "language_info": {
   "codemirror_mode": {
    "name": "ipython",
    "version": 3
   },
   "file_extension": ".py",
   "mimetype": "text/x-python",
   "name": "python",
   "nbconvert_exporter": "python",
   "pygments_lexer": "ipython3",
   "version": "3.8.5"
  }
 },
 "nbformat": 4,
 "nbformat_minor": 4
}
