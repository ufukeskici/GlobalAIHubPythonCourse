{
 "cells": [
  {
   "cell_type": "markdown",
   "metadata": {},
   "source": [
    "#### Determine the names and ages of employees, company managers and the languages they can speak. Then write a program that will print the languages that any of employees can speak. In this project, complete the project by creating two classes named employees and manager."
   ]
  },
  {
   "cell_type": "code",
   "execution_count": 15,
   "metadata": {},
   "outputs": [],
   "source": [
    "class Employees():\n",
    "    def __init__(self, name, surname, age):\n",
    "        self.name = name\n",
    "        self.surname = surname\n",
    "        self.age = age\n",
    "        self.language = set()   # I used set because it does not allow duplicate values.\n",
    "\n",
    "    def addLanguage(self, new_language):\n",
    "        self.language.add(new_language)\n",
    "        print(\"Added new language:\", new_language)\n",
    "        \n",
    "    def showLanguage(self):\n",
    "        print(self.name, self.surname, \"can speak\", end=\" \")\n",
    "        for i in self.language:\n",
    "            print(i, end=\" \")\n",
    "\n",
    "class Manager(Employees):\n",
    "    def __init__(self, name, surname, age):\n",
    "        super().__init__(name, surname, age)"
   ]
  },
  {
   "cell_type": "code",
   "execution_count": 18,
   "metadata": {},
   "outputs": [
    {
     "name": "stdout",
     "output_type": "stream",
     "text": [
      "Added new language: English\n",
      "Added new language: Turkish\n"
     ]
    }
   ],
   "source": [
    "# REGISTER EMPLOYEES AND LANGUAGES\n",
    "ufuk = Employees(\"Ufuk\", \"Eskici\", 35)\n",
    "ufuk.addLanguage(\"English\")\n",
    "ufuk.addLanguage(\"Turkish\")"
   ]
  },
  {
   "cell_type": "code",
   "execution_count": 19,
   "metadata": {},
   "outputs": [
    {
     "name": "stdout",
     "output_type": "stream",
     "text": [
      "Ufuk Eskici can speak Turkish English "
     ]
    }
   ],
   "source": [
    "# SHOW LANGUAGES OF THE EMPLOYEE\n",
    "ufuk.showLanguage()"
   ]
  },
  {
   "cell_type": "code",
   "execution_count": 20,
   "metadata": {},
   "outputs": [
    {
     "name": "stdout",
     "output_type": "stream",
     "text": [
      "Added new language: Turkish\n",
      "Added new language: French\n"
     ]
    }
   ],
   "source": [
    "# REGISTER MANAGER AND LANGUAGES\n",
    "ahmet = Manager(\"Ahmet\", \"Yildirim\", 62)\n",
    "ahmet.addLanguage(\"Turkish\")\n",
    "ahmet.addLanguage(\"French\")"
   ]
  },
  {
   "cell_type": "code",
   "execution_count": 21,
   "metadata": {},
   "outputs": [
    {
     "name": "stdout",
     "output_type": "stream",
     "text": [
      "Ahmet Yildirim can speak French Turkish "
     ]
    }
   ],
   "source": [
    "# SHOW LANGUAGES OF THE MANAGER\n",
    "ahmet.showLanguage()"
   ]
  },
  {
   "cell_type": "code",
   "execution_count": null,
   "metadata": {},
   "outputs": [],
   "source": []
  }
 ],
 "metadata": {
  "kernelspec": {
   "display_name": "Python 3",
   "language": "python",
   "name": "python3"
  },
  "language_info": {
   "codemirror_mode": {
    "name": "ipython",
    "version": 3
   },
   "file_extension": ".py",
   "mimetype": "text/x-python",
   "name": "python",
   "nbconvert_exporter": "python",
   "pygments_lexer": "ipython3",
   "version": "3.8.5"
  }
 },
 "nbformat": 4,
 "nbformat_minor": 4
}
